{
 "cells": [
  {
   "cell_type": "markdown",
   "id": "fac3da27",
   "metadata": {},
   "source": [
    "## Building a model with least possible error to predict Crop yield based on various factors"
   ]
  },
  {
   "cell_type": "code",
   "execution_count": 1,
   "id": "4b540f79",
   "metadata": {},
   "outputs": [],
   "source": [
    "import pandas as pd\n",
    "import numpy as np\n",
    "from sklearn.metrics import mean_absolute_error, confusion_matrix\n",
    "from sklearn.impute import SimpleImputer\n",
    "from sklearn.preprocessing import OrdinalEncoder, OneHotEncoder, StandardScaler\n",
    "from sklearn.compose import ColumnTransformer\n",
    "from sklearn.pipeline import Pipeline\n",
    "from sklearn import linear_model\n",
    "from sklearn.model_selection import train_test_split, cross_val_score, GridSearchCV\n",
    "from xgboost import XGBRegressor"
   ]
  },
  {
   "cell_type": "markdown",
   "id": "fc8707bc",
   "metadata": {},
   "source": [
    "## Importing Dataset"
   ]
  },
  {
   "cell_type": "code",
   "execution_count": 2,
   "id": "ad14b220",
   "metadata": {},
   "outputs": [
    {
     "data": {
      "text/html": [
       "<div>\n",
       "<style scoped>\n",
       "    .dataframe tbody tr th:only-of-type {\n",
       "        vertical-align: middle;\n",
       "    }\n",
       "\n",
       "    .dataframe tbody tr th {\n",
       "        vertical-align: top;\n",
       "    }\n",
       "\n",
       "    .dataframe thead th {\n",
       "        text-align: right;\n",
       "    }\n",
       "</style>\n",
       "<table border=\"1\" class=\"dataframe\">\n",
       "  <thead>\n",
       "    <tr style=\"text-align: right;\">\n",
       "      <th></th>\n",
       "      <th>S.No</th>\n",
       "      <th>Crop</th>\n",
       "      <th>District</th>\n",
       "      <th>Year</th>\n",
       "      <th>Min Temp</th>\n",
       "      <th>Max. Temp</th>\n",
       "      <th>Total Rainfall</th>\n",
       "      <th>Total Yield</th>\n",
       "    </tr>\n",
       "  </thead>\n",
       "  <tbody>\n",
       "    <tr>\n",
       "      <th>0</th>\n",
       "      <td>1</td>\n",
       "      <td>bengal gram</td>\n",
       "      <td>ADILABAD</td>\n",
       "      <td>2016</td>\n",
       "      <td>12.34</td>\n",
       "      <td>42.66</td>\n",
       "      <td>1130.150000</td>\n",
       "      <td>1551</td>\n",
       "    </tr>\n",
       "    <tr>\n",
       "      <th>1</th>\n",
       "      <td>4</td>\n",
       "      <td>groundnut</td>\n",
       "      <td>ADILABAD</td>\n",
       "      <td>2016</td>\n",
       "      <td>12.34</td>\n",
       "      <td>42.66</td>\n",
       "      <td>1130.150000</td>\n",
       "      <td>2068</td>\n",
       "    </tr>\n",
       "    <tr>\n",
       "      <th>2</th>\n",
       "      <td>7</td>\n",
       "      <td>maize</td>\n",
       "      <td>ADILABAD</td>\n",
       "      <td>2016</td>\n",
       "      <td>12.34</td>\n",
       "      <td>42.66</td>\n",
       "      <td>1130.150000</td>\n",
       "      <td>5712</td>\n",
       "    </tr>\n",
       "    <tr>\n",
       "      <th>3</th>\n",
       "      <td>10</td>\n",
       "      <td>bengal gram</td>\n",
       "      <td>BHADRADRI</td>\n",
       "      <td>2016</td>\n",
       "      <td>16.42</td>\n",
       "      <td>42.65</td>\n",
       "      <td>1145.008696</td>\n",
       "      <td>0</td>\n",
       "    </tr>\n",
       "    <tr>\n",
       "      <th>4</th>\n",
       "      <td>13</td>\n",
       "      <td>groundnut</td>\n",
       "      <td>BHADRADRI</td>\n",
       "      <td>2016</td>\n",
       "      <td>16.42</td>\n",
       "      <td>42.65</td>\n",
       "      <td>1145.008696</td>\n",
       "      <td>2186</td>\n",
       "    </tr>\n",
       "  </tbody>\n",
       "</table>\n",
       "</div>"
      ],
      "text/plain": [
       "   S.No         Crop   District  Year  Min Temp  Max. Temp  Total Rainfall  \\\n",
       "0     1  bengal gram   ADILABAD  2016     12.34      42.66     1130.150000   \n",
       "1     4    groundnut   ADILABAD  2016     12.34      42.66     1130.150000   \n",
       "2     7        maize   ADILABAD  2016     12.34      42.66     1130.150000   \n",
       "3    10  bengal gram  BHADRADRI  2016     16.42      42.65     1145.008696   \n",
       "4    13    groundnut  BHADRADRI  2016     16.42      42.65     1145.008696   \n",
       "\n",
       "   Total Yield  \n",
       "0         1551  \n",
       "1         2068  \n",
       "2         5712  \n",
       "3            0  \n",
       "4         2186  "
      ]
     },
     "execution_count": 2,
     "metadata": {},
     "output_type": "execute_result"
    }
   ],
   "source": [
    "data = pd.read_csv('Final.csv')\n",
    "data.head()"
   ]
  },
  {
   "cell_type": "code",
   "execution_count": 3,
   "id": "f09b7eaf",
   "metadata": {},
   "outputs": [
    {
     "data": {
      "text/html": [
       "<div>\n",
       "<style scoped>\n",
       "    .dataframe tbody tr th:only-of-type {\n",
       "        vertical-align: middle;\n",
       "    }\n",
       "\n",
       "    .dataframe tbody tr th {\n",
       "        vertical-align: top;\n",
       "    }\n",
       "\n",
       "    .dataframe thead th {\n",
       "        text-align: right;\n",
       "    }\n",
       "</style>\n",
       "<table border=\"1\" class=\"dataframe\">\n",
       "  <thead>\n",
       "    <tr style=\"text-align: right;\">\n",
       "      <th></th>\n",
       "      <th>S.No</th>\n",
       "      <th>Year</th>\n",
       "      <th>Min Temp</th>\n",
       "      <th>Max. Temp</th>\n",
       "      <th>Total Rainfall</th>\n",
       "      <th>Total Yield</th>\n",
       "    </tr>\n",
       "  </thead>\n",
       "  <tbody>\n",
       "    <tr>\n",
       "      <th>count</th>\n",
       "      <td>279.000000</td>\n",
       "      <td>279.000000</td>\n",
       "      <td>279.000000</td>\n",
       "      <td>279.000000</td>\n",
       "      <td>279.000000</td>\n",
       "      <td>279.000000</td>\n",
       "    </tr>\n",
       "    <tr>\n",
       "      <th>mean</th>\n",
       "      <td>140.000000</td>\n",
       "      <td>2017.000000</td>\n",
       "      <td>14.844946</td>\n",
       "      <td>41.425054</td>\n",
       "      <td>751.382193</td>\n",
       "      <td>2614.860215</td>\n",
       "    </tr>\n",
       "    <tr>\n",
       "      <th>std</th>\n",
       "      <td>80.684571</td>\n",
       "      <td>0.817964</td>\n",
       "      <td>1.467885</td>\n",
       "      <td>1.012367</td>\n",
       "      <td>207.994113</td>\n",
       "      <td>1850.392756</td>\n",
       "    </tr>\n",
       "    <tr>\n",
       "      <th>min</th>\n",
       "      <td>1.000000</td>\n",
       "      <td>2016.000000</td>\n",
       "      <td>12.340000</td>\n",
       "      <td>39.100000</td>\n",
       "      <td>422.918500</td>\n",
       "      <td>0.000000</td>\n",
       "    </tr>\n",
       "    <tr>\n",
       "      <th>25%</th>\n",
       "      <td>70.500000</td>\n",
       "      <td>2016.000000</td>\n",
       "      <td>13.680000</td>\n",
       "      <td>40.590000</td>\n",
       "      <td>585.302609</td>\n",
       "      <td>1516.000000</td>\n",
       "    </tr>\n",
       "    <tr>\n",
       "      <th>50%</th>\n",
       "      <td>140.000000</td>\n",
       "      <td>2017.000000</td>\n",
       "      <td>14.670000</td>\n",
       "      <td>41.490000</td>\n",
       "      <td>703.738889</td>\n",
       "      <td>2068.000000</td>\n",
       "    </tr>\n",
       "    <tr>\n",
       "      <th>75%</th>\n",
       "      <td>209.500000</td>\n",
       "      <td>2018.000000</td>\n",
       "      <td>15.890000</td>\n",
       "      <td>42.190000</td>\n",
       "      <td>894.181818</td>\n",
       "      <td>3126.000000</td>\n",
       "    </tr>\n",
       "    <tr>\n",
       "      <th>max</th>\n",
       "      <td>279.000000</td>\n",
       "      <td>2018.000000</td>\n",
       "      <td>17.750000</td>\n",
       "      <td>43.340000</td>\n",
       "      <td>1290.163636</td>\n",
       "      <td>9282.000000</td>\n",
       "    </tr>\n",
       "  </tbody>\n",
       "</table>\n",
       "</div>"
      ],
      "text/plain": [
       "             S.No         Year    Min Temp   Max. Temp  Total Rainfall  \\\n",
       "count  279.000000   279.000000  279.000000  279.000000      279.000000   \n",
       "mean   140.000000  2017.000000   14.844946   41.425054      751.382193   \n",
       "std     80.684571     0.817964    1.467885    1.012367      207.994113   \n",
       "min      1.000000  2016.000000   12.340000   39.100000      422.918500   \n",
       "25%     70.500000  2016.000000   13.680000   40.590000      585.302609   \n",
       "50%    140.000000  2017.000000   14.670000   41.490000      703.738889   \n",
       "75%    209.500000  2018.000000   15.890000   42.190000      894.181818   \n",
       "max    279.000000  2018.000000   17.750000   43.340000     1290.163636   \n",
       "\n",
       "       Total Yield  \n",
       "count   279.000000  \n",
       "mean   2614.860215  \n",
       "std    1850.392756  \n",
       "min       0.000000  \n",
       "25%    1516.000000  \n",
       "50%    2068.000000  \n",
       "75%    3126.000000  \n",
       "max    9282.000000  "
      ]
     },
     "execution_count": 3,
     "metadata": {},
     "output_type": "execute_result"
    }
   ],
   "source": [
    "data.describe()"
   ]
  },
  {
   "cell_type": "code",
   "execution_count": 4,
   "id": "dd9e4b9f",
   "metadata": {},
   "outputs": [
    {
     "name": "stdout",
     "output_type": "stream",
     "text": [
      "<class 'pandas.core.frame.DataFrame'>\n",
      "RangeIndex: 279 entries, 0 to 278\n",
      "Data columns (total 8 columns):\n",
      " #   Column          Non-Null Count  Dtype  \n",
      "---  ------          --------------  -----  \n",
      " 0   S.No            279 non-null    int64  \n",
      " 1   Crop            279 non-null    object \n",
      " 2   District        279 non-null    object \n",
      " 3   Year            279 non-null    int64  \n",
      " 4   Min Temp        279 non-null    float64\n",
      " 5   Max. Temp       279 non-null    float64\n",
      " 6   Total Rainfall  279 non-null    float64\n",
      " 7   Total Yield     279 non-null    int64  \n",
      "dtypes: float64(3), int64(3), object(2)\n",
      "memory usage: 17.6+ KB\n"
     ]
    }
   ],
   "source": [
    "data.info()"
   ]
  },
  {
   "cell_type": "markdown",
   "id": "d4571521",
   "metadata": {},
   "source": [
    "## Splitting into Train and Test set"
   ]
  },
  {
   "cell_type": "code",
   "execution_count": 5,
   "id": "79d8a0d8",
   "metadata": {},
   "outputs": [],
   "source": [
    "X = data.drop(['S.No','Total Yield'], axis = 1)\n",
    "Y = np.array(data['Total Yield'])\n",
    "Y = Y.reshape((-1,1))"
   ]
  },
  {
   "cell_type": "code",
   "execution_count": 6,
   "id": "d98400b4",
   "metadata": {},
   "outputs": [
    {
     "name": "stdout",
     "output_type": "stream",
     "text": [
      "(223, 6) (56, 6) (223, 1) (56, 1)\n"
     ]
    }
   ],
   "source": [
    "X_train, X_test, Y_train, Y_test  = train_test_split(X, Y, test_size=0.2, random_state=10)\n",
    "print(X_train.shape, X_test.shape, Y_train.shape, Y_test.shape)"
   ]
  },
  {
   "cell_type": "markdown",
   "id": "ef6e2743",
   "metadata": {},
   "source": [
    "## Data Processing using Pipeline"
   ]
  },
  {
   "cell_type": "code",
   "execution_count": 7,
   "id": "39dc4f8e",
   "metadata": {},
   "outputs": [],
   "source": [
    "num_transform = Pipeline([('imputer', SimpleImputer(strategy=\"median\"))])\n",
    "num_cols = [cname for cname in X_train.columns if X_train[cname].dtype in ['float64']]\n",
    "\n",
    "cat_transform = Pipeline(steps=[('imputer', SimpleImputer(strategy='most_frequent')),('onehot', OneHotEncoder(handle_unknown='ignore'))])\n",
    "cat_cols = [cname for cname in X_train.columns if X_train[cname].dtype in ['object']]\n",
    "\n",
    "preprocessor = ColumnTransformer(\n",
    "    transformers=[\n",
    "        ('cat', cat_transform, cat_cols),\n",
    "        ('num', num_transform, num_cols)\n",
    "    ])\n",
    "X_train_prep = preprocessor.fit_transform(X_train)"
   ]
  },
  {
   "cell_type": "code",
   "execution_count": 8,
   "id": "29922d0a",
   "metadata": {},
   "outputs": [
    {
     "data": {
      "text/plain": [
       "(223, 37)"
      ]
     },
     "execution_count": 8,
     "metadata": {},
     "output_type": "execute_result"
    }
   ],
   "source": [
    "X_train_prep.shape"
   ]
  },
  {
   "cell_type": "code",
   "execution_count": 9,
   "id": "a1fbeb01",
   "metadata": {},
   "outputs": [],
   "source": [
    "X_test_prep = preprocessor.transform(X_test)"
   ]
  },
  {
   "cell_type": "markdown",
   "id": "2c4dbd71",
   "metadata": {},
   "source": [
    "## Linear Regression"
   ]
  },
  {
   "cell_type": "code",
   "execution_count": 10,
   "id": "f7df942c",
   "metadata": {},
   "outputs": [
    {
     "data": {
      "text/plain": [
       "LinearRegression()"
      ]
     },
     "execution_count": 10,
     "metadata": {},
     "output_type": "execute_result"
    }
   ],
   "source": [
    "reg = linear_model.LinearRegression()\n",
    "reg.fit(X_train_prep, Y_train)"
   ]
  },
  {
   "cell_type": "code",
   "execution_count": 11,
   "id": "3427d880",
   "metadata": {},
   "outputs": [],
   "source": [
    "Y_pred = reg.predict(X_test_prep)"
   ]
  },
  {
   "cell_type": "code",
   "execution_count": 12,
   "id": "a27eb87b",
   "metadata": {},
   "outputs": [
    {
     "name": "stdout",
     "output_type": "stream",
     "text": [
      "Mean Absolute Error using Linear Regression : 996.5247686871434\n"
     ]
    }
   ],
   "source": [
    "lin_mae = mean_absolute_error(Y_test, Y_pred)\n",
    "print(f'Mean Absolute Error using Linear Regression : {lin_mae}')"
   ]
  },
  {
   "cell_type": "markdown",
   "id": "c9c7ea75",
   "metadata": {},
   "source": [
    "## XGBoost"
   ]
  },
  {
   "cell_type": "markdown",
   "id": "b338535d",
   "metadata": {},
   "source": [
    "#### Parameter Tuning"
   ]
  },
  {
   "cell_type": "code",
   "execution_count": 13,
   "id": "ea386bbc",
   "metadata": {},
   "outputs": [],
   "source": [
    "tuned_parameters = {'learning_rate' : [i*0.01 for i in range(1,3)], 'n_estimators' : [i for i in range(500,800,100)], \n",
    "                    'max_depth' : [i for i in range(5,9)], 'n_jobs' : [i for i in range(3,8)]}"
   ]
  },
  {
   "cell_type": "code",
   "execution_count": 14,
   "id": "ac24a36e",
   "metadata": {},
   "outputs": [
    {
     "data": {
      "text/plain": [
       "-630.1944661423152"
      ]
     },
     "execution_count": 14,
     "metadata": {},
     "output_type": "execute_result"
    }
   ],
   "source": [
    "xgb_reg = XGBRegressor()\n",
    "xgb = GridSearchCV(xgb_reg, tuned_parameters, cv=10, scoring='neg_mean_absolute_error')\n",
    "xgb.fit(X_train_prep, Y_train)\n",
    "xgb.best_score_"
   ]
  },
  {
   "cell_type": "code",
   "execution_count": 15,
   "id": "71026f42",
   "metadata": {},
   "outputs": [
    {
     "data": {
      "text/plain": [
       "{'learning_rate': 0.01, 'max_depth': 6, 'n_estimators': 500, 'n_jobs': 3}"
      ]
     },
     "execution_count": 15,
     "metadata": {},
     "output_type": "execute_result"
    }
   ],
   "source": [
    "xgb.best_params_"
   ]
  },
  {
   "cell_type": "markdown",
   "id": "8e8e37fe",
   "metadata": {},
   "source": [
    "## Predicting Values using Best Model"
   ]
  },
  {
   "cell_type": "code",
   "execution_count": 17,
   "id": "703fc7bd",
   "metadata": {},
   "outputs": [],
   "source": [
    "Y_pred = xgb.predict(X_test_prep)"
   ]
  },
  {
   "cell_type": "code",
   "execution_count": 18,
   "id": "1c490f6b",
   "metadata": {},
   "outputs": [
    {
     "name": "stdout",
     "output_type": "stream",
     "text": [
      "Mean Absolute Error using XGBoost: 449.4672498703003\n"
     ]
    }
   ],
   "source": [
    "xgb_mae = mean_absolute_error(Y_test, Y_pred)\n",
    "print(f'Mean Absolute Error using XGBoost: {xgb_mae}')"
   ]
  },
  {
   "cell_type": "markdown",
   "id": "400a18cb",
   "metadata": {},
   "source": [
    "## Check for underfitting"
   ]
  },
  {
   "cell_type": "code",
   "execution_count": 26,
   "id": "c33f9022",
   "metadata": {},
   "outputs": [
    {
     "name": "stdout",
     "output_type": "stream",
     "text": [
      "Training set score: 194.29075506663642\n",
      "Test set score: 449.4672498703003\n"
     ]
    }
   ],
   "source": [
    "print(f'Training set score: {abs(xgb.score(X_train_prep,Y_train))}')\n",
    "print(f'Test set score: {abs(xgb.score(X_test_prep,Y_test))}')"
   ]
  }
 ],
 "metadata": {
  "kernelspec": {
   "display_name": "Python 3",
   "language": "python",
   "name": "python3"
  },
  "language_info": {
   "codemirror_mode": {
    "name": "ipython",
    "version": 3
   },
   "file_extension": ".py",
   "mimetype": "text/x-python",
   "name": "python",
   "nbconvert_exporter": "python",
   "pygments_lexer": "ipython3",
   "version": "3.8.8"
  }
 },
 "nbformat": 4,
 "nbformat_minor": 5
}
